{
 "cells": [
  {
   "cell_type": "markdown",
   "id": "f0b0cc54",
   "metadata": {},
   "source": [
    "# Scaffold Split in Hyperparameter Tuning\n",
    "*Contributed by Ruel Cedeno @cedenoruel*\n",
    "\n",
    "\n",
    "By default, scikit-learn performs **random split** in cross-validation and hyperparameter tuning.\n",
    "\n",
    "This could result in highly optimistic model performance especially if the compounds in the test set have similar analogs in the training set (some would consider it as *data leakage*).\n",
    "\n",
    "To truly assess the model's generalizability on unseen molecular architectures, **scaffold split** is generally recommended. \n",
    "\n",
    "In this notebook, you will learn:\n",
    "- How to use scaffold splits in generating test sets, performing cross validations and hyperparameter tuning\n",
    "- Advantages of using scaffold splits "
   ]
  },
  {
   "cell_type": "code",
   "execution_count": 35,
   "id": "51aa3d62",
   "metadata": {},
   "outputs": [],
   "source": [
    "# import the usual suspects\n",
    "import os\n",
    "import rdkit\n",
    "from rdkit import Chem\n",
    "import pandas as pd\n",
    "import matplotlib.pyplot as plt\n",
    "from time import time\n",
    "import numpy as np\n",
    "from sklearn.pipeline import Pipeline, make_pipeline\n",
    "from sklearn.linear_model import Ridge\n",
    "from sklearn.model_selection import train_test_split\n",
    "\n",
    "\n",
    "#from scikit_mol package\n",
    "\n",
    "from scikit_mol.fingerprints import MorganFingerprintTransformer\n",
    "\n",
    "#added feature\n",
    "from scikit_mol.splitter import get_scaffold_groups, train_test_group_split, GroupSplitCV\n",
    "\n",
    "#to maintain reproducibility\n",
    "random_state= 41 \n"
   ]
  },
  {
   "cell_type": "markdown",
   "id": "b444ee88-0ff7-4bb5-92ea-7756e58b6adf",
   "metadata": {},
   "source": [
    "## Step 1: Import dataset \n",
    "We will use the same dataset (SLC6A4) as in the previous tutorials."
   ]
  },
  {
   "cell_type": "code",
   "execution_count": 3,
   "id": "adbc1868",
   "metadata": {},
   "outputs": [],
   "source": [
    "csv_file = \"../tests/data/SLC6A4_active_excapedb_subset.csv\"\n",
    "data = pd.read_csv(csv_file)\n",
    "\n",
    "#Add ROMol column to the dataframe\n",
    "data[\"ROMol\"] = data.SMILES.apply(Chem.MolFromSmiles)"
   ]
  },
  {
   "cell_type": "markdown",
   "id": "3e43b8e0-7dd0-422f-b784-f716ab7503f7",
   "metadata": {},
   "source": [
    "## Step 2: Standardize molecules\n",
    "\n",
    "One key advantage of scikit-mol is it allows you to save/pickle models that **work directly on rdkit Mol object**.\n",
    "\n",
    "This solves the problem of having to generate features/descriptors externally with the risk of being incompatible with the saved model (that you may have built few months ago).  "
   ]
  },
  {
   "cell_type": "code",
   "execution_count": 5,
   "id": "f64fad16-98e2-448b-8081-746f3056ca53",
   "metadata": {},
   "outputs": [],
   "source": [
    "# Probably the recommended way would be to prestandardize the data if there's no changes to the transformer,\n",
    "# and then add the standardizer in the inference pipeline.\n",
    "\n",
    "from scikit_mol.standardizer import Standardizer\n",
    "\n",
    "standardizer = Standardizer()\n",
    "\n",
    "data[\"ROMol\"] = standardizer.transform(data[\"ROMol\"]).flatten()"
   ]
  },
  {
   "cell_type": "code",
   "execution_count": 6,
   "id": "c5e2173a-20df-4dbf-8269-4d3416ea3b26",
   "metadata": {},
   "outputs": [
    {
     "data": {
      "text/html": [
       "<div>\n",
       "<style scoped>\n",
       "    .dataframe tbody tr th:only-of-type {\n",
       "        vertical-align: middle;\n",
       "    }\n",
       "\n",
       "    .dataframe tbody tr th {\n",
       "        vertical-align: top;\n",
       "    }\n",
       "\n",
       "    .dataframe thead th {\n",
       "        text-align: right;\n",
       "    }\n",
       "</style>\n",
       "<table border=\"1\" class=\"dataframe\">\n",
       "  <thead>\n",
       "    <tr style=\"text-align: right;\">\n",
       "      <th></th>\n",
       "      <th>Ambit_InchiKey</th>\n",
       "      <th>SMILES</th>\n",
       "      <th>pXC50</th>\n",
       "      <th>ROMol</th>\n",
       "    </tr>\n",
       "  </thead>\n",
       "  <tbody>\n",
       "    <tr>\n",
       "      <th>0</th>\n",
       "      <td>RBCQCVSMIQCOMN-PCQZLOAONA-N</td>\n",
       "      <td>C12C([C@@H](OC(C=3C=CC(=CC3)F)C=4C=CC(=CC4)F)C...</td>\n",
       "      <td>6.26000</td>\n",
       "      <td>&lt;rdkit.Chem.rdchem.Mol object at 0x7fe95a8d3ae0&gt;</td>\n",
       "    </tr>\n",
       "    <tr>\n",
       "      <th>1</th>\n",
       "      <td>ALZTYVXVRZIERJ-UHFFFAOYNA-N</td>\n",
       "      <td>O(C1=NC=C2C(CN(CC2=C1)C)C3=CC=C(OC)C=C3)CCCN(C...</td>\n",
       "      <td>7.18046</td>\n",
       "      <td>&lt;rdkit.Chem.rdchem.Mol object at 0x7fe95a8d3a70&gt;</td>\n",
       "    </tr>\n",
       "    <tr>\n",
       "      <th>2</th>\n",
       "      <td>MOEMPBAHOJKXBG-MRXNPFEDNA-N</td>\n",
       "      <td>O=S(=O)(N(CC=1C=CC2=CC=CC=C2C1)[C@@H]3CCNC3)C</td>\n",
       "      <td>7.77000</td>\n",
       "      <td>&lt;rdkit.Chem.rdchem.Mol object at 0x7fe95a8d3a00&gt;</td>\n",
       "    </tr>\n",
       "    <tr>\n",
       "      <th>3</th>\n",
       "      <td>HEKGBDCRHYILPL-QWOVJGMINA-N</td>\n",
       "      <td>C1(=C2C(CCCC2O)=NC=3C1=CC=CC3)NCC=4C=CC(=CC4)Cl</td>\n",
       "      <td>5.24000</td>\n",
       "      <td>&lt;rdkit.Chem.rdchem.Mol object at 0x7fe95a8d3d10&gt;</td>\n",
       "    </tr>\n",
       "    <tr>\n",
       "      <th>4</th>\n",
       "      <td>SNNRWIBSGBMYRF-UKRRQHHQNA-N</td>\n",
       "      <td>C1NC[C@@H](C1)[C@H](OC=2C=CC(=NC2C)OC)CC(C)C</td>\n",
       "      <td>9.12000</td>\n",
       "      <td>&lt;rdkit.Chem.rdchem.Mol object at 0x7fe95a8d3990&gt;</td>\n",
       "    </tr>\n",
       "    <tr>\n",
       "      <th>...</th>\n",
       "      <td>...</td>\n",
       "      <td>...</td>\n",
       "      <td>...</td>\n",
       "      <td>...</td>\n",
       "    </tr>\n",
       "    <tr>\n",
       "      <th>195</th>\n",
       "      <td>PIKWEFAACQLYMF-UHFFFAOYNA-N</td>\n",
       "      <td>C1=CC=C2C=CC(=CC2=C1)C(N3N=NC(=N3)C=4C=CC=CC4)...</td>\n",
       "      <td>6.60000</td>\n",
       "      <td>&lt;rdkit.Chem.rdchem.Mol object at 0x7fe959ba2b20&gt;</td>\n",
       "    </tr>\n",
       "    <tr>\n",
       "      <th>196</th>\n",
       "      <td>AUZWJAMWJZUPHQ-UHFFFAOYNA-N</td>\n",
       "      <td>C(OC1=CC=C(C=C1)Cl)(C=2C=CC(=CC2)F)C3CNCCC3</td>\n",
       "      <td>7.86000</td>\n",
       "      <td>&lt;rdkit.Chem.rdchem.Mol object at 0x7fe959ba2b90&gt;</td>\n",
       "    </tr>\n",
       "    <tr>\n",
       "      <th>197</th>\n",
       "      <td>JCEWQICHOLLRDL-WUFINQPMNA-N</td>\n",
       "      <td>O(C1=CC=2[C@@H]3N(C[C@H](C2C=C1)C4=CC=C(N5N=CC...</td>\n",
       "      <td>8.22185</td>\n",
       "      <td>&lt;rdkit.Chem.rdchem.Mol object at 0x7fe959ba2c00&gt;</td>\n",
       "    </tr>\n",
       "    <tr>\n",
       "      <th>198</th>\n",
       "      <td>NGRIUVQYFBDXMT-JYAVWHMHNA-N</td>\n",
       "      <td>C1NC[C@@H]2[C@H]1[C@@]2(CCOCC)C3=CC(=C(C=C3)Cl)Cl</td>\n",
       "      <td>9.30000</td>\n",
       "      <td>&lt;rdkit.Chem.rdchem.Mol object at 0x7fe959ba2c70&gt;</td>\n",
       "    </tr>\n",
       "    <tr>\n",
       "      <th>199</th>\n",
       "      <td>ZWLWOTHDIGRTNE-UHFFFAOYNA-N</td>\n",
       "      <td>C(C1=CC=NC=C1)(C2=CC=CC=C2)C3=CC=CC=C3</td>\n",
       "      <td>5.94000</td>\n",
       "      <td>&lt;rdkit.Chem.rdchem.Mol object at 0x7fe959ba2ce0&gt;</td>\n",
       "    </tr>\n",
       "  </tbody>\n",
       "</table>\n",
       "<p>200 rows × 4 columns</p>\n",
       "</div>"
      ],
      "text/plain": [
       "                  Ambit_InchiKey  \\\n",
       "0    RBCQCVSMIQCOMN-PCQZLOAONA-N   \n",
       "1    ALZTYVXVRZIERJ-UHFFFAOYNA-N   \n",
       "2    MOEMPBAHOJKXBG-MRXNPFEDNA-N   \n",
       "3    HEKGBDCRHYILPL-QWOVJGMINA-N   \n",
       "4    SNNRWIBSGBMYRF-UKRRQHHQNA-N   \n",
       "..                           ...   \n",
       "195  PIKWEFAACQLYMF-UHFFFAOYNA-N   \n",
       "196  AUZWJAMWJZUPHQ-UHFFFAOYNA-N   \n",
       "197  JCEWQICHOLLRDL-WUFINQPMNA-N   \n",
       "198  NGRIUVQYFBDXMT-JYAVWHMHNA-N   \n",
       "199  ZWLWOTHDIGRTNE-UHFFFAOYNA-N   \n",
       "\n",
       "                                                SMILES    pXC50  \\\n",
       "0    C12C([C@@H](OC(C=3C=CC(=CC3)F)C=4C=CC(=CC4)F)C...  6.26000   \n",
       "1    O(C1=NC=C2C(CN(CC2=C1)C)C3=CC=C(OC)C=C3)CCCN(C...  7.18046   \n",
       "2        O=S(=O)(N(CC=1C=CC2=CC=CC=C2C1)[C@@H]3CCNC3)C  7.77000   \n",
       "3      C1(=C2C(CCCC2O)=NC=3C1=CC=CC3)NCC=4C=CC(=CC4)Cl  5.24000   \n",
       "4         C1NC[C@@H](C1)[C@H](OC=2C=CC(=NC2C)OC)CC(C)C  9.12000   \n",
       "..                                                 ...      ...   \n",
       "195  C1=CC=C2C=CC(=CC2=C1)C(N3N=NC(=N3)C=4C=CC=CC4)...  6.60000   \n",
       "196        C(OC1=CC=C(C=C1)Cl)(C=2C=CC(=CC2)F)C3CNCCC3  7.86000   \n",
       "197  O(C1=CC=2[C@@H]3N(C[C@H](C2C=C1)C4=CC=C(N5N=CC...  8.22185   \n",
       "198  C1NC[C@@H]2[C@H]1[C@@]2(CCOCC)C3=CC(=C(C=C3)Cl)Cl  9.30000   \n",
       "199             C(C1=CC=NC=C1)(C2=CC=CC=C2)C3=CC=CC=C3  5.94000   \n",
       "\n",
       "                                                ROMol  \n",
       "0    <rdkit.Chem.rdchem.Mol object at 0x7fe95a8d3ae0>  \n",
       "1    <rdkit.Chem.rdchem.Mol object at 0x7fe95a8d3a70>  \n",
       "2    <rdkit.Chem.rdchem.Mol object at 0x7fe95a8d3a00>  \n",
       "3    <rdkit.Chem.rdchem.Mol object at 0x7fe95a8d3d10>  \n",
       "4    <rdkit.Chem.rdchem.Mol object at 0x7fe95a8d3990>  \n",
       "..                                                ...  \n",
       "195  <rdkit.Chem.rdchem.Mol object at 0x7fe959ba2b20>  \n",
       "196  <rdkit.Chem.rdchem.Mol object at 0x7fe959ba2b90>  \n",
       "197  <rdkit.Chem.rdchem.Mol object at 0x7fe959ba2c00>  \n",
       "198  <rdkit.Chem.rdchem.Mol object at 0x7fe959ba2c70>  \n",
       "199  <rdkit.Chem.rdchem.Mol object at 0x7fe959ba2ce0>  \n",
       "\n",
       "[200 rows x 4 columns]"
      ]
     },
     "execution_count": 6,
     "metadata": {},
     "output_type": "execute_result"
    }
   ],
   "source": [
    "data"
   ]
  },
  {
   "cell_type": "markdown",
   "id": "d2ce3c7f",
   "metadata": {},
   "source": [
    "## Step 3: Use scaffold split to obtain train and test sets\n",
    "\n",
    "In a conventional random split, you would use the following \n",
    "```python\n",
    "X_train, X_test, y_train, y_test = train_test_split(X = data.ROMol, y = data.pXC50, test_size=0.2)\n",
    "```\n",
    "To perform a scaffold split, simply  use ```get_scaffold_groups``` to add a column containing the **scaffold ID**  then pass it to the parameter ```groups``` in the ```train_test_group_slit```  "
   ]
  },
  {
   "cell_type": "code",
   "execution_count": 7,
   "id": "9a283f12",
   "metadata": {},
   "outputs": [],
   "source": [
    "data[\"scaffold_ID\"] = get_scaffold_groups(data[\"ROMol\"])\n",
    "\n",
    "X_train, X_test, y_train, y_test = train_test_group_split(X = data.ROMol, y = data.pXC50, groups = data.scaffold_ID, test_size=0.2)\n"
   ]
  },
  {
   "cell_type": "markdown",
   "id": "f33909ad-1898-463d-baeb-b5d6bc8ed600",
   "metadata": {},
   "source": [
    "\n",
    "To verify whether the test set does not contain any scaffold in the training set:"
   ]
  },
  {
   "cell_type": "code",
   "execution_count": 36,
   "id": "bafb5869-b3f8-4060-8d09-8eb69f21aeb9",
   "metadata": {},
   "outputs": [
    {
     "data": {
      "text/plain": [
       "False"
      ]
     },
     "execution_count": 36,
     "metadata": {},
     "output_type": "execute_result"
    }
   ],
   "source": [
    "\n",
    "X_train_scaffold = X_train.apply(Chem.Scaffolds.MurckoScaffold.GetScaffoldForMol).apply(Chem.MolToSmiles)   \n",
    "X_test_scaffold = X_test.apply(Chem.Scaffolds.MurckoScaffold.GetScaffoldForMol).apply(Chem.MolToSmiles) \n",
    "has_common = any(pd.Series(X_test_scaffold).isin(X_train_scaffold))\n",
    "has_common"
   ]
  },
  {
   "cell_type": "markdown",
   "id": "197fa682-88ee-4d7f-accb-5519aeaba6a7",
   "metadata": {},
   "source": [
    "Verify the test_size. Note that due to varying scaffold frequencies, it may not be exactly as the test_size specified (but it should be close)."
   ]
  },
  {
   "cell_type": "code",
   "execution_count": 9,
   "id": "d6519523-30be-44dd-92fc-80dfa707d66e",
   "metadata": {},
   "outputs": [
    {
     "data": {
      "text/plain": [
       "0.195"
      ]
     },
     "execution_count": 9,
     "metadata": {},
     "output_type": "execute_result"
    }
   ],
   "source": [
    "len(X_test)/len(data)"
   ]
  },
  {
   "cell_type": "markdown",
   "id": "ebabaaa9-48ea-46ea-bd94-96652a7a9a9b",
   "metadata": {},
   "source": [
    "## Step 4: Build a pipeline and hyperparameter search space"
   ]
  },
  {
   "cell_type": "markdown",
   "id": "0775d395",
   "metadata": {},
   "source": [
    "For demonstration purposes, we will use a similar pipeline as the previous tutorial in hyperparameter tuning."
   ]
  },
  {
   "cell_type": "code",
   "execution_count": 10,
   "id": "51c74711",
   "metadata": {
    "lines_to_next_cell": 2
   },
   "outputs": [],
   "source": [
    "\n",
    "moltransformer = MorganFingerprintTransformer()\n",
    "regressor = Ridge(random_state=random_state)\n",
    "optimization_pipe = make_pipeline(moltransformer, regressor)\n",
    "\n",
    "\n",
    "#from scipy.stats import loguniform\n",
    "\n",
    "\n",
    "param_grid = {\n",
    "    \"ridge__alpha\": [0.01,0.1,4,8],\n",
    "    \"morganfingerprinttransformer__fpSize\": [512,1024,2048,4096],\n",
    "}\n",
    "#\"morganfingerprinttransformer__radius\": [2, 3]\n",
    "#      \"morganfingerprinttransformer__useCounts\": [True, False]\n",
    "#    \"morganfingerprinttransformer__useFeatures\": [True, False],"
   ]
  },
  {
   "cell_type": "markdown",
   "id": "469691f4",
   "metadata": {},
   "source": [
    "## Step 5: Use the GroupSplitCV in Hyperparameter Tuning\n",
    "\n",
    "Using ```GroupSplitCV``` allows you to perform hyperparameter tuning such that the validation set doesn't contain any **groups** present in the training set. In this particular example, our groups are **Bemis-Murcko scaffolds**. \n",
    "\n",
    "In principle, this would yield optimal hyperparameters that can better generalize to unseen molecular architectures. \n",
    "\n",
    "Using ```groups``` as a parameter for hyperparameter tuning is flexible as it gives you the freedom to create your own grouping algorithm. For instance, if you are working with a chemical series having the same scaffolds, then other grouping procedure is needed (k-nearest neighbor, Butina clustering, etc).\n",
    "\n",
    "```GroupSplitCV``` has the following arguments:\n",
    "\n",
    "n_splits <- number of splits/folds  \n",
    "\n",
    "n_repeats <- number of reshuffling repetitions\n",
    "\n",
    "X,y <- as usual\n",
    "\n",
    "groups <- groupID such as scaffold_ID or cluster_ID, the validation set will not contain any group in common with the training set in each cycle\n"
   ]
  },
  {
   "cell_type": "code",
   "execution_count": 11,
   "id": "3904b752-4b62-45cc-ba12-8af7593489c3",
   "metadata": {},
   "outputs": [],
   "source": [
    "\n",
    "group_train = data.scaffold_ID[X_train.index]\n",
    "cv_scaffold = GroupSplitCV(n_splits=5, n_repeats=4, X = X_train, y=y_train, groups = group_train, test_size=0.2,random_state=random_state)\n"
   ]
  },
  {
   "cell_type": "markdown",
   "id": "367b7981-7bfc-4502-a0e7-12ce4516cbce",
   "metadata": {},
   "source": [
    "Pass the ```cv_scaffold``` to the ```cv``` parameter of any SearchCV of scikit-learn, in this case we use the ```GridSearchCV``` to minimize the effect of randomness "
   ]
  },
  {
   "cell_type": "code",
   "execution_count": 25,
   "id": "cd5d9bd3-bf2e-40fe-8762-68c427f0aa0b",
   "metadata": {},
   "outputs": [
    {
     "name": "stdout",
     "output_type": "stream",
     "text": [
      "Runtime: 30.67\n"
     ]
    }
   ],
   "source": [
    "from sklearn.model_selection import  GridSearchCV\n",
    "\n",
    "\n",
    "search_scaffold = GridSearchCV(optimization_pipe, param_grid=param_grid, cv=cv_scaffold)\n",
    "\n",
    "t0 = time()\n",
    "search_scaffold.fit(X_train,y_train)\n",
    "t1 = time()\n",
    "print(f\"Runtime: {t1-t0:0.2F}\")"
   ]
  },
  {
   "cell_type": "code",
   "execution_count": 28,
   "id": "bce0090e-7a88-4239-a21c-441aa2e9ac5f",
   "metadata": {},
   "outputs": [
    {
     "data": {
      "text/plain": [
       "0.4961118502225621"
      ]
     },
     "execution_count": 28,
     "metadata": {},
     "output_type": "execute_result"
    }
   ],
   "source": [
    "#Test performance\n",
    "from sklearn.metrics import r2_score\n",
    "y_pred_scaffold = search_scaffold.best_estimator_.predict(X_test)\n",
    "r2_scaffold = r2_score(y_test,y_pred_scaffold)\n",
    "r2_scaffold"
   ]
  },
  {
   "cell_type": "markdown",
   "id": "990b0414-8938-4a62-9e2d-8cac7937caa4",
   "metadata": {},
   "source": [
    "## Analysis: Scaffold vs Random Split"
   ]
  },
  {
   "cell_type": "markdown",
   "id": "227034af-623f-45e5-82ba-e93545ae7ec8",
   "metadata": {},
   "source": [
    "To understand the impact of scaffold splits, let's retrain the same model but this time, using random splits in cross validation."
   ]
  },
  {
   "cell_type": "code",
   "execution_count": 13,
   "id": "ed3d6da6-a4c4-4d47-9c8e-69bd9bbfd8c4",
   "metadata": {},
   "outputs": [
    {
     "name": "stdout",
     "output_type": "stream",
     "text": [
      "Runtime: 30.67\n"
     ]
    }
   ],
   "source": [
    "from sklearn.base import clone\n",
    "from sklearn.model_selection import RepeatedKFold\n",
    "\n",
    "cv_random = RepeatedKFold(n_splits=5, n_repeats=4, random_state=random_state)\n",
    "#We use the same parameters n_splits and n_repeats so that it is comparable with the scaffold split\n",
    "\n",
    "optimization_pipe_random = clone(optimization_pipe)\n",
    "\n",
    "search_random = GridSearchCV(optimization_pipe_random, param_grid=param_grid, cv=cv_random)\n",
    "\n",
    "t0 = time()\n",
    "search_random.fit(X_train,y_train)\n",
    "t1 = time()\n",
    "print(f\"Runtime: {t1-t0:0.2F}\")\n"
   ]
  },
  {
   "cell_type": "code",
   "execution_count": 15,
   "id": "d6db3939-e01c-4a00-bba7-b3033a7320d9",
   "metadata": {},
   "outputs": [
    {
     "data": {
      "text/plain": [
       "{'morganfingerprinttransformer__fpSize': 1024, 'ridge__alpha': 4}"
      ]
     },
     "execution_count": 15,
     "metadata": {},
     "output_type": "execute_result"
    }
   ],
   "source": [
    "search_random.best_params_"
   ]
  },
  {
   "cell_type": "code",
   "execution_count": 16,
   "id": "8cb79c91-d63f-4dcc-8935-234dd7b61d5c",
   "metadata": {},
   "outputs": [
    {
     "data": {
      "text/plain": [
       "{'morganfingerprinttransformer__fpSize': 2048, 'ridge__alpha': 0.01}"
      ]
     },
     "execution_count": 16,
     "metadata": {},
     "output_type": "execute_result"
    }
   ],
   "source": [
    "search_scaffold.best_params_"
   ]
  },
  {
   "cell_type": "markdown",
   "id": "cdb1ff54-63f5-40e5-91c9-ed1a0775e3df",
   "metadata": {},
   "source": [
    "\n",
    "Notice that the **optimal hyperparameters may be different** depending on the CV splitting approach.\n",
    "\n",
    "To determine whether this difference is statistically significant, we will perform further analysis."
   ]
  },
  {
   "cell_type": "code",
   "execution_count": 20,
   "id": "199a1131-7c60-47c9-ab23-f058f07757f8",
   "metadata": {},
   "outputs": [
    {
     "data": {
      "image/png": "[encoded data removed]",
      "text/plain": [
       "<Figure size 640x480 with 1 Axes>"
      ]
     },
     "metadata": {},
     "output_type": "display_data"
    }
   ],
   "source": [
    "import seaborn as sns\n",
    "import matplotlib.pyplot as plt\n",
    "df_cv_compare = pd.DataFrame()\n",
    "\n",
    "df_scaffold_cv_results = pd.DataFrame(search_scaffold.cv_results_)\n",
    "df_random_cv_results =  pd.DataFrame(search_random.cv_results_)\n",
    "\n",
    "\n",
    "#get the row corresponding to the best hyperparameters\n",
    "scaffold_best_idx = df_scaffold_cv_results[['mean_test_score']].idxmax().values[0]\n",
    "random_best_idx = df_random_cv_results[['mean_test_score']].idxmax().values[0]\n",
    "\n",
    "#get the CV scores of the best hyperparameters\n",
    "scaffold_split_cv_score = df_scaffold_cv_results.loc[scaffold_best_idx,df_scaffold_cv_results.columns.str.contains(\"split\")]\n",
    "random_split_cv_score =  df_random_cv_results.loc[random_best_idx,df_random_cv_results.columns.str.contains(\"split\")]\n",
    "\n",
    "#prepare dataframe for boxplot\n",
    "df_cv_compare[\"score\"] = list(scaffold_split_cv_score) + list(random_split_cv_score)\n",
    "df_cv_compare[\"split\"] = [\"scaffold\" for i in scaffold_split_cv_score ] + [\"random\" for i in random_split_cv_score ]\n",
    "\n",
    "sns.boxplot(data=df_cv_compare, x=\"split\", y=\"score\",hue=\"split\")\n",
    "plt.ylabel(\"$R^2$ validation score\",fontsize=13)\n",
    "plt.show()"
   ]
  },
  {
   "cell_type": "code",
   "execution_count": 18,
   "id": "9e25fbf6-9a56-4859-8d05-13092d7affff",
   "metadata": {},
   "outputs": [],
   "source": [
    "#!pip install statsmodels\n",
    "from statsmodels.stats.multicomp import pairwise_tukeyhsd\n",
    "thsd = pairwise_tukeyhsd(df_cv_compare.score, df_cv_compare.split)"
   ]
  },
  {
   "cell_type": "code",
   "execution_count": 19,
   "id": "b52e162b-141a-4949-a2f1-870544e63ff4",
   "metadata": {},
   "outputs": [
    {
     "name": "stdout",
     "output_type": "stream",
     "text": [
      " Multiple Comparison of Means - Tukey HSD, FWER=0.05 \n",
      "=====================================================\n",
      "group1  group2  meandiff p-adj   lower  upper  reject\n",
      "-----------------------------------------------------\n",
      "random scaffold  -0.0331 0.3489 -0.1037 0.0375  False\n",
      "-----------------------------------------------------\n"
     ]
    }
   ],
   "source": [
    "print(thsd)"
   ]
  },
  {
   "cell_type": "markdown",
   "id": "f9d834b1-f33a-4698-b5ee-9417c9d7869f",
   "metadata": {},
   "source": [
    "In TukeyHSD test, if **p-adj < 0.05**, there is a **statistically significant difference**. \n",
    "\n",
    "In real world scenario, the new compounds to be evaluated will likely contain different scaffolds from that of the training set.\n",
    "\n",
    "Now, let's compare the model performance on unseen scaffolds, i.e. our **test set**."
   ]
  },
  {
   "cell_type": "code",
   "execution_count": 30,
   "id": "a3d17494-25ac-4e15-bac8-7205488fe545",
   "metadata": {},
   "outputs": [
    {
     "data": {
      "image/png": "[encoded data removed]",
      "text/plain": [
       "<Figure size 640x480 with 1 Axes>"
      ]
     },
     "metadata": {},
     "output_type": "display_data"
    }
   ],
   "source": [
    "\n",
    "\n",
    "\n",
    "y_pred_random = search_random.best_estimator_.predict(X_test)\n",
    "r2_random = r2_score(y_test,y_pred_random)\n",
    "\n",
    "sns.scatterplot(x=y_test, y=y_pred_scaffold,color='b',label=f\"Scaffold split, Test $R^2$={r2_scaffold:.2f}\")\n",
    "sns.scatterplot(x=y_test, y=y_pred_random,color='r',label=f\"Random split, Test $R^2$={r2_random:.2f}\")\n",
    "plt.plot(y_test,y_test,color='g')\n",
    "\n",
    "plt.xlabel(\"Experimental\")\n",
    "plt.ylabel(\"Predicted\")\n",
    "plt.legend(fontsize=12)\n",
    "plt.show()"
   ]
  },
  {
   "cell_type": "code",
   "execution_count": 31,
   "id": "744960f2-f489-4e88-8164-d28077b35569",
   "metadata": {},
   "outputs": [
    {
     "data": {
      "text/html": [
       "<div>\n",
       "<style scoped>\n",
       "    .dataframe tbody tr th:only-of-type {\n",
       "        vertical-align: middle;\n",
       "    }\n",
       "\n",
       "    .dataframe tbody tr th {\n",
       "        vertical-align: top;\n",
       "    }\n",
       "\n",
       "    .dataframe thead th {\n",
       "        text-align: right;\n",
       "    }\n",
       "</style>\n",
       "<table border=\"1\" class=\"dataframe\">\n",
       "  <thead>\n",
       "    <tr style=\"text-align: right;\">\n",
       "      <th></th>\n",
       "      <th>split type</th>\n",
       "      <th>validation score</th>\n",
       "      <th>test score</th>\n",
       "    </tr>\n",
       "  </thead>\n",
       "  <tbody>\n",
       "    <tr>\n",
       "      <th>0</th>\n",
       "      <td>scaffold</td>\n",
       "      <td>0.516411</td>\n",
       "      <td>0.496112</td>\n",
       "    </tr>\n",
       "    <tr>\n",
       "      <th>1</th>\n",
       "      <td>random</td>\n",
       "      <td>0.607743</td>\n",
       "      <td>0.452201</td>\n",
       "    </tr>\n",
       "  </tbody>\n",
       "</table>\n",
       "</div>"
      ],
      "text/plain": [
       "  split type  validation score  test score\n",
       "0   scaffold          0.516411    0.496112\n",
       "1     random          0.607743    0.452201"
      ]
     },
     "execution_count": 31,
     "metadata": {},
     "output_type": "execute_result"
    }
   ],
   "source": [
    "df_cv_test = pd.DataFrame()\n",
    "df_cv_test[\"split type\"] = [\"scaffold\",\"random\"] \n",
    "df_cv_test[\"validation score\"] = [scaffold_split_cv_score.median(),random_split_cv_score.median()]   \n",
    "df_cv_test[\"test score\"] = [r2_scaffold,r2_random]\n",
    "df_cv_test"
   ]
  },
  {
   "cell_type": "markdown",
   "id": "75875ffa-135b-475b-8b0f-54483b9385d8",
   "metadata": {},
   "source": [
    "## Take aways\n",
    "\n",
    "In this example, the model trained via scaffold splits tends to have better generalizability on unseen scaffolds.\n",
    "\n",
    "Moreover, the discrepancy between the validation and test score is higher in random splits than in scaffold splits.\n",
    "\n",
    "Based on this result, scaffold splits can potentially:\n",
    "- give **a more realistic estimation of model performance than the default random splits**\n",
    "- **help mitigate overfitting** during hyperparameter optimization\n",
    "\n",
    "Although this outcome could highly depend on the data itself (as well as the arbitrary random states), this notebook shows the advantage of using scaffold splits, which has now a **convenient implementation in scikit-mol**. :)"
   ]
  },
  {
   "cell_type": "code",
   "execution_count": null,
   "id": "e89e3a77-4dd0-48ae-a143-f9298014e824",
   "metadata": {},
   "outputs": [],
   "source": []
  }
 ],
 "metadata": {
  "jupytext": {
   "cell_metadata_filter": "title,-all",
   "formats": "ipynb,py:percent"
  },
  "kernelspec": {
   "display_name": "Python 3 (ipykernel)",
   "language": "python",
   "name": "python3"
  },
  "language_info": {
   "codemirror_mode": {
    "name": "ipython",
    "version": 3
   },
   "file_extension": ".py",
   "mimetype": "text/x-python",
   "name": "python",
   "nbconvert_exporter": "python",
   "pygments_lexer": "ipython3",
   "version": "3.10.16"
  }
 },
 "nbformat": 4,
 "nbformat_minor": 5
}
